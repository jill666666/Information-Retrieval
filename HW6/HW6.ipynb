{
 "nbformat": 4,
 "nbformat_minor": 2,
 "metadata": {
  "language_info": {
   "name": "python",
   "codemirror_mode": {
    "name": "ipython",
    "version": 3
   },
   "version": "3.8.1-final"
  },
  "orig_nbformat": 2,
  "file_extension": ".py",
  "mimetype": "text/x-python",
  "name": "python",
  "npconvert_exporter": "python",
  "pygments_lexer": "ipython3",
  "version": 3,
  "kernelspec": {
   "name": "python3",
   "display_name": "Python 3"
  }
 },
 "cells": [
  {
   "cell_type": "markdown",
   "metadata": {},
   "source": [
    "# Get QREL dictionary for reference"
   ]
  },
  {
   "cell_type": "code",
   "execution_count": 1,
   "metadata": {},
   "outputs": [],
   "source": [
    "QREL_FILE = '../HW1/trec_eval/qrels.adhoc.51-100.AP89.txt'\n",
    "\n",
    "def retrieve_qrel(QREL_FILE):\n",
    "    counter = 0\n",
    "    queryno_list = [59, 77, 94, 85, 95, 91, 56, 71, 64, 62, 93, 99, 58, 54, 87, 100, 89, 61, 68, 63, 57, 97, 98, 60, 80]\n",
    "    print(len(queryno_list))\n",
    "    with open (QREL_FILE, 'r', encoding='ISO-8859-1') as f:\n",
    "        qrel_dict = {}\n",
    "        relevants = []\n",
    "        for line in f:\n",
    "            items = line.split()\n",
    "            queryno, docno, relevance = int(items[0]), items[2], float(items[3])\n",
    "            if relevance == 1 and queryno in queryno_list:\n",
    "                counter += 1\n",
    "                relevants.append(docno)\n",
    "            if queryno in qrel_dict:\n",
    "                qrel_dict[queryno].append(docno)\n",
    "            else:  \n",
    "                qrel_dict[queryno] = [docno]\n",
    "    # print(len(qrel_dict))\n",
    "    # print(counter)\n",
    "    # print(len(relevants))\n",
    "    return qrel_dict, relevants"
   ]
  },
  {
   "cell_type": "markdown",
   "metadata": {},
   "source": [
    "# Get relevant documents"
   ]
  },
  {
   "cell_type": "code",
   "execution_count": 2,
   "metadata": {},
   "outputs": [],
   "source": [
    "OKAPI_BM25 = './rel_results/okapi-bm25.txt'\n",
    "OKAPI_TF = './rel_results/okapi-tf.txt'\n",
    "TF_IDF = './rel_results/tf-idf.txt'\n",
    "\n",
    "def file_info(TEST_FILE, qnum):\n",
    "    list, dictionary = [], {}\n",
    "    with open (TEST_FILE, 'r', encoding='ISO-8859-1') as f:\n",
    "        for line in f:\n",
    "            items = line.split()\n",
    "            queryno, docno, score = int(items[0]), items[2], float(items[4])\n",
    "            if queryno == qnum:\n",
    "                id_pair = str(queryno) + '-' + docno\n",
    "                list.append(id_pair)\n",
    "                dictionary[id_pair] = score\n",
    "    return list, dictionary\n",
    "\n",
    "def relevant_docs(OKAPI_BM25, OKAPI_TF, TF_IDF, relevance):\n",
    "    queryno_list = [59, 77, 85, 91, 56, 71, 64, 62, 93, 58, 54, 87, 100, 89, 61, 68, 63, 57, 60, 80]\n",
    "    rel_docs, len_map = {}, {}\n",
    "\n",
    "    for qnum in queryno_list:\n",
    "        bm25_list, bm25_dict = file_info(OKAPI_BM25, qnum)\n",
    "        tf_list, tf_dict = file_info(OKAPI_TF, qnum)\n",
    "        idf_list, idf_dict = file_info(TF_IDF, qnum)\n",
    "        len_map[qnum] = len(bm25_list)\n",
    "        for id_pair in bm25_list:\n",
    "            if id_pair[-13:] in relevance:\n",
    "                rel_docs[id_pair] = (bm25_dict[id_pair], tf_dict[id_pair], idf_dict[id_pair], 1)\n",
    "            else:\n",
    "                rel_docs[id_pair] = (bm25_dict[id_pair], tf_dict[id_pair], idf_dict[id_pair], 0)\n",
    "    return len_map, rel_docs"
   ]
  },
  {
   "cell_type": "markdown",
   "metadata": {},
   "source": [
    "# Get non-relevant documents"
   ]
  },
  {
   "cell_type": "code",
   "execution_count": 3,
   "metadata": {},
   "outputs": [],
   "source": [
    "import random\n",
    "\n",
    "NON_OKAPI_BM25 = './non_rel_results/okapi-bm25.txt'\n",
    "NON_OKAPI_TF = './non_rel_results/okapi-tf.txt'\n",
    "NON_TF_IDF = './non_rel_results/tf-idf.txt'\n",
    "\n",
    "def intersection(lst1, lst2): \n",
    "    lst3 = [value for value in lst1 if value in lst2] \n",
    "    return lst3 \n",
    "\n",
    "def non_relevant_docs(len_map, NON_OKAPI_BM25, NON_OKAPI_TF, NON_TF_IDF):\n",
    "    queryno_list = [59, 77, 85, 91, 56, 71, 64, 62, 93, 58, 54, 87, 100, 89, 61, 68, 63, 57, 60, 80]\n",
    "    non_rel_docs = {}\n",
    "\n",
    "    for qnum in queryno_list:\n",
    "        bm25_list, bm25_dict = file_info(NON_OKAPI_BM25, qnum)\n",
    "        tf_list, tf_dict = file_info(NON_OKAPI_TF, qnum)\n",
    "        idf_list, idf_dict = file_info(NON_TF_IDF, qnum)\n",
    "\n",
    "        intrsct_list = intersection(intersection(bm25_list, tf_list), idf_list)\n",
    "        # if len(intrsct_list) + len_map[qnum] > 1000:\n",
    "        intrsct_list = random.sample(intrsct_list, 1000 - len_map[qnum])\n",
    "        # print(qnum, len_map[qnum], len(intrsct_list))\n",
    "        for id_pair in intrsct_list:\n",
    "            non_rel_docs[id_pair] = (bm25_dict[id_pair], tf_dict[id_pair], idf_dict[id_pair], 0)\n",
    "    return non_rel_docs"
   ]
  },
  {
   "cell_type": "markdown",
   "metadata": {},
   "source": [
    "# Get documents for test queries"
   ]
  },
  {
   "cell_type": "code",
   "execution_count": 4,
   "metadata": {},
   "outputs": [],
   "source": [
    "TEST_OKAPI_BM25 = './test_results/test_okapi-bm25.txt'\n",
    "TEST_OKAPI_TF = './test_results/test_okapi-tf.txt'\n",
    "TEST_TF_IDF = './test_results/test_tf-idf.txt'\n",
    "\n",
    "def test_docs(TEST_OKAPI_BM25, TEST_OKAPI_TF, TEST_TF_IDF):\n",
    "    queryno_list = [94, 95, 97, 98, 99]\n",
    "    test_docs = {}\n",
    "    for qnum in queryno_list:\n",
    "        bm25_list, bm25_dict = file_info(TEST_OKAPI_BM25, qnum)\n",
    "        tf_list, tf_dict = file_info(TEST_OKAPI_TF, qnum)\n",
    "        idf_list, idf_dict = file_info(TEST_TF_IDF, qnum)\n",
    "        print(len(bm25_list))\n",
    "        for id_pair in bm25_list:\n",
    "            try:\n",
    "                bm25_score = bm25_dict[id_pair]\n",
    "            except:\n",
    "                bm25_score = 0\n",
    "            try:\n",
    "                tf_score = tf_dict[id_pair]\n",
    "            except:\n",
    "                tf_score = 0\n",
    "            try:\n",
    "                idf_score = idf_dict[id_pair]\n",
    "            except:\n",
    "                idf_score = 0\n",
    "            if id_pair[-13:] in relevance:\n",
    "                test_docs[id_pair] = (bm25_score, tf_score, idf_score, 1)\n",
    "            else:\n",
    "                test_docs[id_pair] = (bm25_score, tf_score, idf_score, 0)\n",
    "    return test_docs"
   ]
  },
  {
   "cell_type": "markdown",
   "metadata": {},
   "source": [
    "## Get non-relevant documents according to the number of relevant documents"
   ]
  },
  {
   "cell_type": "code",
   "execution_count": 5,
   "metadata": {
    "tags": [
     "outputPrepend",
     "outputPrepend",
     "outputPrepend",
     "outputPrepend",
     "outputPrepend"
    ]
   },
   "outputs": [
    {
     "output_type": "stream",
     "name": "stdout",
     "text": "25\n1000\n1000\n1000\n1000\n1000\n"
    }
   ],
   "source": [
    "qrel_dict, relevance = retrieve_qrel(QREL_FILE)\n",
    "len_map, rel_docs = relevant_docs(OKAPI_BM25, OKAPI_TF, TF_IDF, relevance)\n",
    "non_rel_docs = non_relevant_docs(len_map, NON_OKAPI_BM25, NON_OKAPI_TF, NON_TF_IDF)\n",
    "test_docs = test_docs(TEST_OKAPI_BM25, TEST_OKAPI_TF, TEST_TF_IDF)"
   ]
  },
  {
   "cell_type": "markdown",
   "metadata": {},
   "source": [
    "# Generate feature matrix"
   ]
  },
  {
   "cell_type": "code",
   "execution_count": 6,
   "metadata": {},
   "outputs": [],
   "source": [
    "import pandas as pd\n",
    "\n",
    "feature_map = dict(**rel_docs, **non_rel_docs)\n",
    "f_matrix = pd.DataFrame(columns = ['Queryno-Docno', 'Okapi-BM25', 'Okapi-TF', 'TF-IDF', 'Relevance'])\n",
    "for key, item in sorted(feature_map.items()):\n",
    "    f_matrix = f_matrix.append(pd.Series([key, item[0], item[1], item[2], item[3]], index = f_matrix.columns), ignore_index=True)\n",
    "for key, item in sorted(test_docs.items()):\n",
    "    f_matrix = f_matrix.append(pd.Series([key, item[0], item[1], item[2], item[3]], index = f_matrix.columns), ignore_index=True)"
   ]
  },
  {
   "cell_type": "markdown",
   "metadata": {},
   "source": [
    "## Training set"
   ]
  },
  {
   "cell_type": "code",
   "execution_count": 7,
   "metadata": {},
   "outputs": [
    {
     "output_type": "execute_result",
     "data": {
      "text/plain": "           Queryno-Docno  Okapi-BM25  Okapi-TF    TF-IDF Relevance\n0      100-AP890101-0053    4.145897  0.678843  1.386598         0\n1      100-AP890102-0144    5.755935  0.781337  1.812924         0\n2      100-AP890103-0003    4.733380  0.876695  1.542451         0\n3      100-AP890103-0146    4.253067  0.821857  1.477725         0\n4      100-AP890104-0062    5.577723  0.793778  1.797725         0\n...                  ...         ...       ...       ...       ...\n19995   93-AP891230-0046    2.931008  0.827404  1.028523         0\n19996   93-AP891230-0067    5.689349  0.738578  1.772829         0\n19997   93-AP891230-0074    6.156061  0.735453  1.993646         0\n19998   93-AP891230-0090    4.714761  0.395055  1.624637         0\n19999   93-AP891231-0010    2.715180  0.689458  0.911594         0\n\n[20000 rows x 5 columns]",
      "text/html": "<div>\n<style scoped>\n    .dataframe tbody tr th:only-of-type {\n        vertical-align: middle;\n    }\n\n    .dataframe tbody tr th {\n        vertical-align: top;\n    }\n\n    .dataframe thead th {\n        text-align: right;\n    }\n</style>\n<table border=\"1\" class=\"dataframe\">\n  <thead>\n    <tr style=\"text-align: right;\">\n      <th></th>\n      <th>Queryno-Docno</th>\n      <th>Okapi-BM25</th>\n      <th>Okapi-TF</th>\n      <th>TF-IDF</th>\n      <th>Relevance</th>\n    </tr>\n  </thead>\n  <tbody>\n    <tr>\n      <th>0</th>\n      <td>100-AP890101-0053</td>\n      <td>4.145897</td>\n      <td>0.678843</td>\n      <td>1.386598</td>\n      <td>0</td>\n    </tr>\n    <tr>\n      <th>1</th>\n      <td>100-AP890102-0144</td>\n      <td>5.755935</td>\n      <td>0.781337</td>\n      <td>1.812924</td>\n      <td>0</td>\n    </tr>\n    <tr>\n      <th>2</th>\n      <td>100-AP890103-0003</td>\n      <td>4.733380</td>\n      <td>0.876695</td>\n      <td>1.542451</td>\n      <td>0</td>\n    </tr>\n    <tr>\n      <th>3</th>\n      <td>100-AP890103-0146</td>\n      <td>4.253067</td>\n      <td>0.821857</td>\n      <td>1.477725</td>\n      <td>0</td>\n    </tr>\n    <tr>\n      <th>4</th>\n      <td>100-AP890104-0062</td>\n      <td>5.577723</td>\n      <td>0.793778</td>\n      <td>1.797725</td>\n      <td>0</td>\n    </tr>\n    <tr>\n      <th>...</th>\n      <td>...</td>\n      <td>...</td>\n      <td>...</td>\n      <td>...</td>\n      <td>...</td>\n    </tr>\n    <tr>\n      <th>19995</th>\n      <td>93-AP891230-0046</td>\n      <td>2.931008</td>\n      <td>0.827404</td>\n      <td>1.028523</td>\n      <td>0</td>\n    </tr>\n    <tr>\n      <th>19996</th>\n      <td>93-AP891230-0067</td>\n      <td>5.689349</td>\n      <td>0.738578</td>\n      <td>1.772829</td>\n      <td>0</td>\n    </tr>\n    <tr>\n      <th>19997</th>\n      <td>93-AP891230-0074</td>\n      <td>6.156061</td>\n      <td>0.735453</td>\n      <td>1.993646</td>\n      <td>0</td>\n    </tr>\n    <tr>\n      <th>19998</th>\n      <td>93-AP891230-0090</td>\n      <td>4.714761</td>\n      <td>0.395055</td>\n      <td>1.624637</td>\n      <td>0</td>\n    </tr>\n    <tr>\n      <th>19999</th>\n      <td>93-AP891231-0010</td>\n      <td>2.715180</td>\n      <td>0.689458</td>\n      <td>0.911594</td>\n      <td>0</td>\n    </tr>\n  </tbody>\n</table>\n<p>20000 rows × 5 columns</p>\n</div>"
     },
     "metadata": {},
     "execution_count": 7
    }
   ],
   "source": [
    "f_matrix.head(20000)"
   ]
  },
  {
   "cell_type": "code",
   "execution_count": 8,
   "metadata": {},
   "outputs": [
    {
     "output_type": "execute_result",
     "data": {
      "text/plain": "          Queryno-Docno  Okapi-BM25  Okapi-TF    TF-IDF Relevance\n20000  94-AP890101-0002    5.991360  0.703359  2.153543         0\n20001  94-AP890102-0093    4.920011  0.000000  1.845500         0\n20002  94-AP890102-0107    6.512217  0.000000  2.040016         0\n20003  94-AP890103-0030    6.040243  0.898343  2.230469         0\n20004  94-AP890103-0087    8.137603  0.000000  2.647158         0\n...                 ...         ...       ...       ...       ...\n24995  99-AP891229-0100    6.726268  0.933025  0.000000         0\n24996  99-AP891229-0167   13.944339  1.424712  5.133301         0\n24997  99-AP891229-0182    6.763340  0.000000  0.000000         0\n24998  99-AP891230-0053   11.277287  1.079564  3.916483         0\n24999  99-AP891230-0102    8.423551  0.909672  3.268695         0\n\n[5000 rows x 5 columns]",
      "text/html": "<div>\n<style scoped>\n    .dataframe tbody tr th:only-of-type {\n        vertical-align: middle;\n    }\n\n    .dataframe tbody tr th {\n        vertical-align: top;\n    }\n\n    .dataframe thead th {\n        text-align: right;\n    }\n</style>\n<table border=\"1\" class=\"dataframe\">\n  <thead>\n    <tr style=\"text-align: right;\">\n      <th></th>\n      <th>Queryno-Docno</th>\n      <th>Okapi-BM25</th>\n      <th>Okapi-TF</th>\n      <th>TF-IDF</th>\n      <th>Relevance</th>\n    </tr>\n  </thead>\n  <tbody>\n    <tr>\n      <th>20000</th>\n      <td>94-AP890101-0002</td>\n      <td>5.991360</td>\n      <td>0.703359</td>\n      <td>2.153543</td>\n      <td>0</td>\n    </tr>\n    <tr>\n      <th>20001</th>\n      <td>94-AP890102-0093</td>\n      <td>4.920011</td>\n      <td>0.000000</td>\n      <td>1.845500</td>\n      <td>0</td>\n    </tr>\n    <tr>\n      <th>20002</th>\n      <td>94-AP890102-0107</td>\n      <td>6.512217</td>\n      <td>0.000000</td>\n      <td>2.040016</td>\n      <td>0</td>\n    </tr>\n    <tr>\n      <th>20003</th>\n      <td>94-AP890103-0030</td>\n      <td>6.040243</td>\n      <td>0.898343</td>\n      <td>2.230469</td>\n      <td>0</td>\n    </tr>\n    <tr>\n      <th>20004</th>\n      <td>94-AP890103-0087</td>\n      <td>8.137603</td>\n      <td>0.000000</td>\n      <td>2.647158</td>\n      <td>0</td>\n    </tr>\n    <tr>\n      <th>...</th>\n      <td>...</td>\n      <td>...</td>\n      <td>...</td>\n      <td>...</td>\n      <td>...</td>\n    </tr>\n    <tr>\n      <th>24995</th>\n      <td>99-AP891229-0100</td>\n      <td>6.726268</td>\n      <td>0.933025</td>\n      <td>0.000000</td>\n      <td>0</td>\n    </tr>\n    <tr>\n      <th>24996</th>\n      <td>99-AP891229-0167</td>\n      <td>13.944339</td>\n      <td>1.424712</td>\n      <td>5.133301</td>\n      <td>0</td>\n    </tr>\n    <tr>\n      <th>24997</th>\n      <td>99-AP891229-0182</td>\n      <td>6.763340</td>\n      <td>0.000000</td>\n      <td>0.000000</td>\n      <td>0</td>\n    </tr>\n    <tr>\n      <th>24998</th>\n      <td>99-AP891230-0053</td>\n      <td>11.277287</td>\n      <td>1.079564</td>\n      <td>3.916483</td>\n      <td>0</td>\n    </tr>\n    <tr>\n      <th>24999</th>\n      <td>99-AP891230-0102</td>\n      <td>8.423551</td>\n      <td>0.909672</td>\n      <td>3.268695</td>\n      <td>0</td>\n    </tr>\n  </tbody>\n</table>\n<p>5000 rows × 5 columns</p>\n</div>"
     },
     "metadata": {},
     "execution_count": 8
    }
   ],
   "source": [
    "f_matrix.tail(5000)"
   ]
  },
  {
   "cell_type": "markdown",
   "metadata": {},
   "source": [
    "## Testing set"
   ]
  },
  {
   "cell_type": "markdown",
   "metadata": {},
   "source": [
    "# Linear Regression"
   ]
  },
  {
   "cell_type": "code",
   "execution_count": 9,
   "metadata": {},
   "outputs": [
    {
     "output_type": "execute_result",
     "data": {
      "text/plain": "(25000, 5)"
     },
     "metadata": {},
     "execution_count": 9
    }
   ],
   "source": [
    "from sklearn import model_selection\n",
    "from sklearn import linear_model\n",
    "from operator import itemgetter\n",
    "\n",
    "X = f_matrix.values[:,1:4]\n",
    "Y = f_matrix.values[:,4]\n",
    "f_matrix.shape"
   ]
  },
  {
   "cell_type": "markdown",
   "metadata": {},
   "source": [
    "### helper methods"
   ]
  },
  {
   "cell_type": "code",
   "execution_count": 10,
   "metadata": {},
   "outputs": [],
   "source": [
    "def createDict(qdIDTest, predictions):\n",
    "    testDict = {}\n",
    "    i = 0\n",
    "    for prediction in predictions:\n",
    "        qdIDVal = qdIDTest[i][0]\n",
    "        i += 1\n",
    "        qID = qdIDVal.split('-', 1)[0]\n",
    "        docID = qdIDVal.split('-', 1)[1]\n",
    "        if qID in testDict:\n",
    "            testDict[qID].append((docID, prediction))\n",
    "        else:\n",
    "            testDict[qID] = []\n",
    "            testDict[qID].append((docID, prediction))\n",
    "    return testDict\n",
    "\n",
    "def sortDict(testDict):\n",
    "    for item in testDict:\n",
    "        sorted_list = sorted(testDict[item], key=itemgetter(1), reverse=True)\n",
    "        testDict[item] = sorted_list\n",
    "    return testDict"
   ]
  },
  {
   "cell_type": "markdown",
   "metadata": {},
   "source": [
    "## 1. Test the model"
   ]
  },
  {
   "cell_type": "code",
   "execution_count": 16,
   "metadata": {},
   "outputs": [],
   "source": [
    "kfold = model_selection.KFold(n_splits=5, random_state=None, shuffle=False) # k-fold cross validation\n",
    "qdID = f_matrix.values\n",
    "counter = 0\n",
    "for train, test in kfold.split(X, Y):\n",
    "    counter += 1\n",
    "    qdIDTest = qdID[test]\n",
    "    regr = linear_model.LinearRegression()\n",
    "    regr.fit(X[train], Y[train]) #train\n",
    "    predictions = regr.predict(X[test]) #predict\n",
    "    testDict = createDict(qdIDTest, predictions)\n",
    "    testDict = sortDict(testDict)\n",
    "    out = open('./test_result_{}.txt'.format(counter), \"a\")\n",
    "    for qnum, tuples in testDict.items():\n",
    "        rank = 0\n",
    "        for tuple in tuples:\n",
    "            rank += 1\n",
    "            str = ('{} Q0 {} {} {} Exp'.format(qnum, tuple[0], rank, tuple[1]))\n",
    "            out.write(str+\"\\n\")"
   ]
  },
  {
   "cell_type": "markdown",
   "metadata": {},
   "source": [
    "## 2. Test the model on training data"
   ]
  },
  {
   "cell_type": "code",
   "execution_count": 15,
   "metadata": {},
   "outputs": [],
   "source": [
    "kfold = model_selection.KFold(n_splits=5, random_state=None, shuffle=False) #k-fold cross validation\n",
    "qdID = f_matrix.values\n",
    "counter = 0\n",
    "for train, test in kfold.split(X, Y):\n",
    "    qdIDTest = qdID[train]\n",
    "    regr = linear_model.LinearRegression()\n",
    "    regr.fit(X[train], Y[train]) #train\n",
    "    predictions = regr.predict(X[train]) #predict\n",
    "    testDict = createDict(qdIDTest, predictions)\n",
    "    testDict = sortDict(testDict)\n",
    "    out = open('./test_train_result_{}.txt'.format(counter), \"a\")\n",
    "    for qnum, tuples in testDict.items():\n",
    "        rank = 0\n",
    "        for tuple in tuples:\n",
    "            rank += 1\n",
    "            str = ('{} Q0 {} {} {} Exp'.format(qnum, tuple[0], rank, tuple[1]))\n",
    "            out.write(str+\"\\n\")"
   ]
  },
  {
   "cell_type": "code",
   "execution_count": null,
   "metadata": {},
   "outputs": [],
   "source": [
    "# test performance\n",
    "# [0.4484, 0.2116, 0.2302, 0.3248, 0.2819]\n",
    "# Avg of avg precisions: About 0.299\n",
    "\n",
    "# training performance\n",
    "# [0.2563, 0.3806, 0.3724, 0.3493, 0.3573]\n",
    "# Avg of avg precisions: About 0.343"
   ]
  }
 ]
}